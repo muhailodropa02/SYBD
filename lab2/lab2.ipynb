{
 "cells": [
  {
   "cell_type": "markdown",
   "metadata": {},
   "source": [
    "1. Основні типи даних:"
   ]
  },
  {
   "cell_type": "code",
   "execution_count": 1,
   "metadata": {},
   "outputs": [
    {
     "name": "stdout",
     "output_type": "stream",
     "text": [
      "Текстова змінна\n",
      "1\n",
      "['a', 5.5, 'b', 'Слово']\n",
      "{'a': 'Слово', 'b': 1}\n",
      "(1, 3, 3, 7)\n",
      "{1, 'ss'}\n"
     ]
    }
   ],
   "source": [
    "textvar = \"Текстова змінна\"\n",
    "print (textvar)\n",
    "numvar = 1 # Числова змінна\n",
    "print (numvar)\n",
    "listvar = [\"a\", 5.5, \"b\", \"Слово\"] # Список (List)\n",
    "print (listvar)\n",
    "dictvar = {\"a\": \"Слово\", \"b\": 1} # Словник (dict)\n",
    "print (dictvar)\n",
    "tuplevar = (1, 3, 3, 7) # Кортеж (tuple)\n",
    "print (tuplevar)\n",
    "setvar = {\"ss\", \"ss\", 1 } # Множина (set), (два однакові елементи, але виводиться один)\n",
    "print (setvar)"
   ]
  },
  {
   "cell_type": "markdown",
   "metadata": {},
   "source": [
    "2. Вбудовані константи:"
   ]
  },
  {
   "cell_type": "code",
   "execution_count": 2,
   "metadata": {},
   "outputs": [
    {
     "name": "stdout",
     "output_type": "stream",
     "text": [
      "Перша константа: False\n",
      "Друга константа: True\n",
      "Третя константа: None\n"
     ]
    }
   ],
   "source": [
    "print(\"Перша константа:\", False)\n",
    "print(\"Друга константа:\", True)\n",
    "print(\"Третя константа:\", None)"
   ]
  },
  {
   "cell_type": "markdown",
   "metadata": {},
   "source": [
    "3. Результат роботи вбудованих функцій:"
   ]
  },
  {
   "cell_type": "code",
   "execution_count": 3,
   "metadata": {},
   "outputs": [
    {
     "name": "stdout",
     "output_type": "stream",
     "text": [
      "Функція float: 1000000.0\n",
      "Функція abs: 6.67\n",
      "Функція pow: 3375\n"
     ]
    }
   ],
   "source": [
    "print(\"Функція float:\",float('+1E6'))\n",
    "print(\"Функція abs:\",abs(-6.67))\n",
    "print(\"Функція pow:\",pow(15, 3))"
   ]
  },
  {
   "cell_type": "markdown",
   "metadata": {},
   "source": [
    "4. Цикли:"
   ]
  },
  {
   "cell_type": "code",
   "execution_count": 4,
   "metadata": {},
   "outputs": [
    {
     "name": "stdout",
     "output_type": "stream",
     "text": [
      "0\n",
      "1\n",
      " \n",
      "0\n",
      "1\n",
      "2\n"
     ]
    }
   ],
   "source": [
    "for numvar in range(2):\n",
    "    print(numvar)\n",
    "print (\" \")\n",
    "for x in range(24):\n",
    "  if x == 3: break\n",
    "  print(x)\n",
    "else:\n",
    "  print(\"Кінець\")"
   ]
  },
  {
   "cell_type": "markdown",
   "metadata": {},
   "source": [
    "5. Розгалуження:"
   ]
  },
  {
   "cell_type": "code",
   "execution_count": 5,
   "metadata": {},
   "outputs": [
    {
     "name": "stdout",
     "output_type": "stream",
     "text": [
      "Виведеться якщо varbool = True\n"
     ]
    }
   ],
   "source": [
    "varbool = True\n",
    "print(\"Виведеться якщо varbool = True\" if varbool else \"Виведеться якщо varbool = False\")"
   ]
  },
  {
   "cell_type": "markdown",
   "metadata": {},
   "source": [
    "6. Конструкція try->except->finally:"
   ]
  },
  {
   "cell_type": "code",
   "execution_count": 6,
   "metadata": {},
   "outputs": [
    {
     "name": "stdout",
     "output_type": "stream",
     "text": [
      "unsupported operand type(s) for -: 'int' and 'str'\n",
      "Не працює, виводиться Exception\n"
     ]
    }
   ],
   "source": [
    "A = \"ABC\"\n",
    "try:\n",
    "    print(152 - A)\n",
    "except Exception as e:\n",
    "    print(e)\n",
    "finally:\n",
    "    print(\"Не працює, виводиться Exception\")"
   ]
  },
  {
   "cell_type": "markdown",
   "metadata": {},
   "source": [
    "7. Контекст-менеджер with:"
   ]
  },
  {
   "cell_type": "code",
   "execution_count": 7,
   "metadata": {},
   "outputs": [],
   "source": [
    "with open('withtest.md', 'w') as f:\n",
    "     f.write('Hello World!')"
   ]
  },
  {
   "cell_type": "markdown",
   "metadata": {},
   "source": [
    "8. Lambda:"
   ]
  },
  {
   "cell_type": "code",
   "execution_count": 8,
   "metadata": {},
   "outputs": [
    {
     "name": "stdout",
     "output_type": "stream",
     "text": [
      "Автор: Muhailo Dropa\n"
     ]
    }
   ],
   "source": [
    "lambda_expr =  lambda first_name, last_name : f\"Автор: {first_name} {last_name}\"\n",
    "print(lambda_expr(\"Muhailo\",\"Dropa\"))"
   ]
  }
 ],
 "metadata": {
  "kernelspec": {
   "display_name": "Python 3.10.8 64-bit (microsoft store)",
   "language": "python",
   "name": "python3"
  },
  "language_info": {
   "codemirror_mode": {
    "name": "ipython",
    "version": 3
   },
   "file_extension": ".py",
   "mimetype": "text/x-python",
   "name": "python",
   "nbconvert_exporter": "python",
   "pygments_lexer": "ipython3",
   "version": "3.10.8"
  },
  "orig_nbformat": 4,
  "vscode": {
   "interpreter": {
    "hash": "595909ae9c13044091d1cdb357bcbf9f399b6e1709d0257f23b5f03c8b229444"
   }
  }
 },
 "nbformat": 4,
 "nbformat_minor": 2
}
