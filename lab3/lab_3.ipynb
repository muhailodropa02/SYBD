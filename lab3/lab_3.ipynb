{
 "cells": [
  {
   "cell_type": "code",
   "execution_count": 1,
   "metadata": {},
   "outputs": [
    {
     "name": "stdout",
     "output_type": "stream",
     "text": [
      "Let's Start!\n",
      ">*<>*<>*<>*<>*<>*<>*<>*<>*<>*<>*<>*<>*<>*<>*<>*<>*<>*<>*<>*<\n",
      "This is object: <__main__.MyName object at 0x000001E688A42710> \n",
      "This is object attribute: Vitalik / 1\n",
      "This is <class 'property'>: My name is Vitalik / Vitalik@itcollege.lviv.ua\n",
      "This is <class 'method'> call: Vitalik@itcollege.lviv.ua\n",
      "This is static <class 'function'> with defaults: You say: Hello to everyone! \n",
      "This is class variable <class 'int'>: from class 5 / from object 5\n",
      "<*><*><*><*><*><*><*><*><*><*><*><*><*><*><*><*><*><*><*><*>\n",
      ">*<>*<>*<>*<>*<>*<>*<>*<>*<>*<>*<>*<>*<>*<>*<>*<>*<>*<>*<>*<\n",
      "This is object: <__main__.MyName object at 0x000001E688AAC8B0> \n",
      "This is object attribute: Sergiy / 2\n",
      "This is <class 'property'>: My name is Sergiy / Sergiy@itcollege.lviv.ua\n",
      "This is <class 'method'> call: Sergiy@itcollege.lviv.ua\n",
      "This is static <class 'function'> with defaults: You say: Hello to everyone! \n",
      "This is class variable <class 'int'>: from class 5 / from object 5\n",
      "<*><*><*><*><*><*><*><*><*><*><*><*><*><*><*><*><*><*><*><*>\n",
      ">*<>*<>*<>*<>*<>*<>*<>*<>*<>*<>*<>*<>*<>*<>*<>*<>*<>*<>*<>*<\n",
      "This is object: <__main__.MyName object at 0x000001E688AAC940> \n",
      "This is object attribute: Anonymous / 4\n",
      "This is <class 'property'>: My name is Anonymous / Anonymous@itcollege.lviv.ua\n",
      "This is <class 'method'> call: Anonymous@itcollege.lviv.ua\n",
      "This is static <class 'function'> with defaults: You say: Hello to everyone! \n",
      "This is class variable <class 'int'>: from class 5 / from object 5\n",
      "<*><*><*><*><*><*><*><*><*><*><*><*><*><*><*><*><*><*><*><*>\n",
      ">*<>*<>*<>*<>*<>*<>*<>*<>*<>*<>*<>*<>*<>*<>*<>*<>*<>*<>*<>*<\n",
      "This is object: <__main__.MyName object at 0x000001E688AAC9A0> \n",
      "This is object attribute: Muhailo / 5\n",
      "This is <class 'property'>: My name is Muhailo / Muhailo@itcollege.lviv.ua\n",
      "This is <class 'method'> call: Muhailo@itcollege.lviv.ua\n",
      "This is static <class 'function'> with defaults: You say: Hello to everyone! \n",
      "This is class variable <class 'int'>: from class 5 / from object 5\n",
      "<*><*><*><*><*><*><*><*><*><*><*><*><*><*><*><*><*><*><*><*>\n",
      "We are done. We create 5 names! ??? Why 5?\n"
     ]
    }
   ],
   "source": [
    "class MyName:\n",
    "    \"\"\"Опис класу / Документація\n",
    "    \"\"\"\n",
    "    total_names = 0 #Class Variable\n",
    "\n",
    "    def __init__(self, name=None) -> None:\n",
    "        self.name = name if name is not None else self.anonymous_user().name #Class attributes / Instance variables\n",
    "        MyName.total_names += 1 #modify class variable\n",
    "        self.my_id = self.total_names\n",
    "\n",
    "    @property\n",
    "    def whoami(self): \n",
    "        \"\"\"Class property\n",
    "        return: повертаємо імя \n",
    "        \"\"\"\n",
    "        return f\"My name is {self.name}\"\n",
    "    \n",
    "    @property\n",
    "    def my_email(self) -> str:\n",
    "        \"\"\"Class property\n",
    "        return: повертаємо емейл\n",
    "        \"\"\"\n",
    "        return self.create_email()\n",
    "    \n",
    "    def create_email(self) -> str:\n",
    "        \"\"\"Instance method\n",
    "        \"\"\"\n",
    "        return f\"{self.name}@itcollege.lviv.ua\"\n",
    "\n",
    "    @classmethod\n",
    "    def anonymous_user(cls):\n",
    "        \"\"\"Classs method\n",
    "        \"\"\"\n",
    "        return cls(\"Anonymous\")\n",
    "    \n",
    "    @staticmethod\n",
    "    def say_hello(message=\"Hello to everyone!\"):\n",
    "        \"\"\"Static method\n",
    "        \"\"\"\n",
    "        return f\"You say: {message}\"\n",
    "\n",
    "\n",
    "print(\"Let's Start!\")\n",
    "\n",
    "names = (\"Vitalik\", \"Sergiy\", None, \"Muhailo\")\n",
    "all_names = {name: MyName(name) for name in names}\n",
    "\n",
    "for name, me in all_names.items():\n",
    "    print(f\"\"\"{\">*<\"*20}\n",
    "This is object: {me} \n",
    "This is object attribute: {me.name} / {me.my_id}\n",
    "This is {type(MyName.whoami)}: {me.whoami} / {me.my_email}\n",
    "This is {type(me.create_email)} call: {me.create_email()}\n",
    "This is static {type(MyName.say_hello)} with defaults: {me.say_hello()} \n",
    "This is class variable {type(MyName.total_names)}: from class {MyName.total_names} / from object {me.total_names}\n",
    "{\"<*>\"*20}\"\"\")\n",
    "\n",
    "print(f\"We are done. We create {me.total_names} names! ??? Why {MyName.total_names}?\")"
   ]
  }
 ],
 "metadata": {
  "kernelspec": {
   "display_name": "Python 3.10.8 64-bit (microsoft store)",
   "language": "python",
   "name": "python3"
  },
  "language_info": {
   "codemirror_mode": {
    "name": "ipython",
    "version": 3
   },
   "file_extension": ".py",
   "mimetype": "text/x-python",
   "name": "python",
   "nbconvert_exporter": "python",
   "pygments_lexer": "ipython3",
   "version": "3.10.8"
  },
  "orig_nbformat": 4,
  "vscode": {
   "interpreter": {
    "hash": "595909ae9c13044091d1cdb357bcbf9f399b6e1709d0257f23b5f03c8b229444"
   }
  }
 },
 "nbformat": 4,
 "nbformat_minor": 2
}
